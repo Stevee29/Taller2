{
 "cells": [
  {
   "cell_type": "markdown",
   "metadata": {
    "slideshow": {
     "slide_type": "slide"
    }
   },
   "source": [
    "# Intro al análisis de datos - ICC732\n",
    "## Taller 2"
   ]
  },
  {
   "cell_type": "markdown",
   "metadata": {},
   "source": [
    "### Instrucciones"
   ]
  },
  {
   "cell_type": "markdown",
   "metadata": {},
   "source": [
    "## **Equipos**\n",
    "- Trabaje en grupos de 3 integrantes.\n",
    "- No se aceptan grupos de 4 integrantes\n",
    "- Si no cumple este requisito contacte al profesor.\n",
    "\n",
    "**Evaluación**\n",
    "- Parte 1: 6 tareas -> 0-3 puntos cada una.\n",
    "- Parte 2: 1 tarea  -> 0-3 puntos cada una.\n",
    "- Parte 3: 4 tareas -> 0-3 puntos cada una.\n",
    "\n",
    "**Reglamento**\n",
    "- Preguntas similares entre grupos, reciben nota mínima.\n",
    "- Puede usar herramientas de asistencia para responder su taller, pero debe adaptar el código al contexto que este taller exige.\n",
    "- Marque con una **X** si herramientas del tipo chatGPT para responder este taller: () Sí, () No.\n",
    "- No se revisarán entregas enviadas por Discord o correo electrónico.\n",
    "\n",
    "**Disponibilidad del Taller**\n",
    "- Desde: Lunes 2 de Octubre, 16:50.\n",
    "- Hasta: Miércoles 4 de Octubre: 23:00.\n",
    "\n",
    "**Hint**\n",
    "- Documente métodos y clases\n",
    "\n",
    "**Formato de entrega**\n",
    "- Apellido1-Apellido2-Apellido3.ipynb (ejecutable)\n",
    "- Apellido1-Apellido2-Apellido3.html\n",
    "- Solo 1 integrante sube el taller al campus virtual.\n",
    "- Crear respositorio GitHub: **Link acá**"
   ]
  },
  {
   "cell_type": "markdown",
   "metadata": {},
   "source": [
    "## Juego\n",
    "\n",
    "#### **Clases**\n",
    "- 1 clase denominada ``Dron``:\n",
    "    - representa un Dron en un juego de mesa.\n",
    "    - consta de dos parámetros que lo identifican: nombre y pisición.\n",
    "    - se inicializa en ``0,0`` con nombres ``Timon`` y ``Sid``\n",
    "\n",
    "- 1 clase denominada ``Tablero``:\n",
    "    - que representa un tablero de juego de mesa.\n",
    "    - tiene tamaño que se representa por: x e y.\n",
    "    - se inicializa en tamaño ``50,50``\n",
    "\n",
    "#### **Comportamiento**\n",
    "- El dron se mueve en 4 direcciones: arriba, abajo, izquierda, derecha\n",
    "- En el trablero, el dron puede lanzar bombas\n",
    "\n",
    "#### **Jugada**\n",
    "- Una juagada representa el juego en marcha.\n",
    "- Primero se mueven los drones en diferentes direcciones\n",
    "- Luego, cada dron lanza una bomba\n",
    "- Si la posición de la bomba lanzada por un dron coincide con la posicion del rival, entonces el dron gana."
   ]
  },
  {
   "cell_type": "markdown",
   "metadata": {},
   "source": [
    "#### 1 - Clase Dron\n",
    "\n",
    "- Cree la clase Dron\n",
    "- Implemente la clase.\n",
    "    - ``Dron``\n",
    "- Implemente los métodos\n",
    "    - ``mover_arriba``, ``mover_abajo``, ``mover_izquierda``, ``mover_derecha``, y  ``lanzar_bomba``."
   ]
  },
  {
   "cell_type": "code",
   "execution_count": 1,
   "metadata": {},
   "outputs": [],
   "source": [
    "import math\n",
    "\n",
    "class Bomba():\n",
    "    from math import sqrt\n",
    "    def __init__(self,x,y):\n",
    "        self.x=x\n",
    "        self.y=y\n",
    "\n",
    "\n",
    "    \n",
    "    def get_distance(self, other):\n",
    "        x_distance = self.x - other.x\n",
    "        y_distance = self.y - other.y\n",
    "        distance = math.sqrt(x_distance**2 + y_distance**2)\n",
    "        return distance\n",
    "    \n",
    "    def safety_check(self, other):\n",
    "        distance = self.get_distance(other)\n",
    "        if distance == 0:\n",
    "            print(\"BOOOOM\")\n",
    "            print('haz ganado perro')\n",
    "\n",
    "            print(f\"¡{self.name} y {other.name} han chocado!\")\n",
    "        elif distance < 10:\n",
    "            print(f\"¡Advertencia! {self.name} y {other.name} están demasiado cerca.\")\n",
    "        else:\n",
    "            print(f\"{self.name} y {other.name} están a una distancia segura.\")\n",
    "\n",
    "\n"
   ]
  },
  {
   "cell_type": "code",
   "execution_count": 6,
   "metadata": {},
   "outputs": [],
   "source": [
    "class Dron():\n",
    "    def __init__(self):\n",
    "        self.x=0\n",
    "        self.y=0\n",
    "        self.bomba=None\n",
    "        self.name=('name')\n",
    "    def mover_arriba(self,y):\n",
    "        self.y=self.y+abs(y)\n",
    "    def mover_abajo(self,y):\n",
    "        self.y=self.y-y\n",
    "    def mover_izquierda(self,x):\n",
    "        self.x=self.x-x\n",
    "    def mover_derecha(self,x):\n",
    "        self.x=self.x+x\n",
    "    def change_name(self,name):\n",
    "        self.name=name\n",
    "    def  lanzar_bomba(self,x,y):\n",
    "        if self.bomba is None:\n",
    "            self.bomba=Bomba(x,y)\n",
    "            print('La bomba fue lanzada a las coordenadas(',x,',',y,')')\n",
    "\n",
    "            "
   ]
  },
  {
   "cell_type": "markdown",
   "metadata": {},
   "source": [
    "#### 2 - Clase Tablero\n",
    "\n",
    "- Implemente la clase Tablero\n",
    "    - tiene tamaño que se representa por: x e y.\n",
    "    - se inicializa en tamaño ``50,50``"
   ]
  },
  {
   "cell_type": "code",
   "execution_count": 3,
   "metadata": {},
   "outputs": [],
   "source": [
    "class tablero():\n",
    "    def __init__(self):\n",
    "        self.sizex=50\n",
    "        self.sizey=50\n",
    "        "
   ]
  },
  {
   "cell_type": "markdown",
   "metadata": {},
   "source": [
    "#### 3 - Jugada\n",
    "\n",
    "- Implemente una jugada (con o sin clase)\n",
    "- Mueva los drones en cierta dirección.\n",
    "- Debe atacar lanzando bombas.\n",
    "- Uno de los drones debe ganar y hacer un anuncio al respecto."
   ]
  },
  {
   "cell_type": "code",
   "execution_count": 4,
   "metadata": {},
   "outputs": [
    {
     "name": "stdout",
     "output_type": "stream",
     "text": [
      "La bomba fue lanzada a las coordenadas( 20 , 15 )\n",
      "Posicion final de  Timon  es ( 5 , 10 )\n",
      "Posicion final de  Sid  es ( 20 , 15 )\n"
     ]
    }
   ],
   "source": [
    "dron1=Dron()\n",
    "dron2=Dron()\n",
    "dron1.change_name('Timon')\n",
    "dron2.change_name('Sid')\n",
    "dron1.mover_derecha(5)\n",
    "dron1.mover_arriba(10)\n",
    "dron1.lanzar_bomba(20,15)\n",
    "dron2.mover_derecha(20)\n",
    "dron2.mover_arriba(15)\n",
    "print(\"Posicion final de \",(dron1.name),\" es (\",dron1.x,',',dron1.y,')')\n",
    "print(\"Posicion final de \",(dron2.name),\" es (\",dron2.x,',',dron2.y,')')"
   ]
  },
  {
   "cell_type": "code",
   "execution_count": 72,
   "metadata": {},
   "outputs": [],
   "source": [
    "# Su código acá"
   ]
  },
  {
   "cell_type": "code",
   "execution_count": null,
   "metadata": {},
   "outputs": [],
   "source": []
  }
 ],
 "metadata": {
  "kernelspec": {
   "display_name": "Python 3 (ipykernel)",
   "language": "python",
   "name": "python3"
  },
  "language_info": {
   "codemirror_mode": {
    "name": "ipython",
    "version": 3
   },
   "file_extension": ".py",
   "mimetype": "text/x-python",
   "name": "python",
   "nbconvert_exporter": "python",
   "pygments_lexer": "ipython3",
   "version": "3.10.6"
  }
 },
 "nbformat": 4,
 "nbformat_minor": 4
}
